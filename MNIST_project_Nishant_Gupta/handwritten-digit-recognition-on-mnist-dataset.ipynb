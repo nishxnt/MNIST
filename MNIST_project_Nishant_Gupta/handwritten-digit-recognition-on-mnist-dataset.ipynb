{
 "cells": [
  {
   "cell_type": "markdown",
   "metadata": {},
   "source": [
    "# Project: Handwritten Digit Recognition on MNIST dataset"
   ]
  },
  {
   "cell_type": "markdown",
   "metadata": {},
   "source": [
    "## Table of content"
   ]
  },
  {
   "cell_type": "markdown",
   "metadata": {},
   "source": [
    "1. [Importing Libraries](#section-one)\n",
    "2. [Fetching Dataset](#section-two)\n",
    "3. [Visualize Examples](#section-three)\n",
    "4. [Data Preparation](#section-four)\n",
    "5. [Model: Fully Connected Neural Network](#section-five)\n",
    "6. [Train](#section-six)\n",
    "7. [Evaluate](#section-seven)\n",
    "8. [Confusion Matrix](#section-eight)"
   ]
  },
  {
   "cell_type": "markdown",
   "metadata": {},
   "source": [
    "<a id=\"section-one\"></a>\n",
    "## 1. Importing Libraries"
   ]
  },
  {
   "cell_type": "code",
   "execution_count": 1,
   "metadata": {
    "execution": {
     "iopub.execute_input": "2022-09-08T04:37:44.284316Z",
     "iopub.status.busy": "2022-09-08T04:37:44.283878Z",
     "iopub.status.idle": "2022-09-08T04:37:45.029104Z",
     "shell.execute_reply": "2022-09-08T04:37:45.027709Z",
     "shell.execute_reply.started": "2022-09-08T04:37:44.284280Z"
    }
   },
   "outputs": [],
   "source": [
    "import numpy as np\n",
    "import matplotlib.pyplot as plt\n",
    "%matplotlib inline\n",
    "import tensorflow as tf\n",
    "from tensorflow.keras.models import Sequential\n",
    "from tensorflow.keras.layers import Dense, Dropout\n",
    "from sklearn.metrics import confusion_matrix\n",
    "import seaborn as sns\n",
    "sns.set()\n",
    "\n",
    "np.random.seed(0)"
   ]
  },
  {
   "cell_type": "markdown",
   "metadata": {},
   "source": [
    "<a id=\"section-two\"></a>\n",
    "## 2. Fetching Dataset"
   ]
  },
  {
   "cell_type": "code",
   "execution_count": 2,
   "metadata": {
    "execution": {
     "iopub.execute_input": "2022-09-08T04:37:45.031928Z",
     "iopub.status.busy": "2022-09-08T04:37:45.031531Z",
     "iopub.status.idle": "2022-09-08T04:37:45.819688Z",
     "shell.execute_reply": "2022-09-08T04:37:45.818331Z",
     "shell.execute_reply.started": "2022-09-08T04:37:45.031897Z"
    }
   },
   "outputs": [
    {
     "name": "stdout",
     "output_type": "stream",
     "text": [
      "Downloading data from https://storage.googleapis.com/tensorflow/tf-keras-datasets/mnist.npz\n",
      "11490434/11490434 [==============================] - 4s 0us/step\n"
     ]
    }
   ],
   "source": [
    "from tensorflow.keras.datasets import mnist\n",
    "\n",
    "(x_train, y_train), (x_test, y_test) = mnist.load_data()"
   ]
  },
  {
   "cell_type": "code",
   "execution_count": 3,
   "metadata": {
    "execution": {
     "iopub.execute_input": "2022-09-08T04:37:45.822245Z",
     "iopub.status.busy": "2022-09-08T04:37:45.821686Z",
     "iopub.status.idle": "2022-09-08T04:37:45.829583Z",
     "shell.execute_reply": "2022-09-08T04:37:45.827676Z",
     "shell.execute_reply.started": "2022-09-08T04:37:45.822197Z"
    }
   },
   "outputs": [
    {
     "name": "stdout",
     "output_type": "stream",
     "text": [
      "(60000, 28, 28) (60000,)\n",
      "(10000, 28, 28) (10000,)\n"
     ]
    }
   ],
   "source": [
    "# Let's have a look at the number of rows and columns \n",
    "\n",
    "print(x_train.shape, y_train.shape)\n",
    "print(x_test.shape, y_test.shape)"
   ]
  },
  {
   "cell_type": "markdown",
   "metadata": {},
   "source": [
    "<a id=\"section-three\"></a>\n",
    "## 3. Visualize Examples"
   ]
  },
  {
   "cell_type": "code",
   "execution_count": 4,
   "metadata": {
    "execution": {
     "iopub.execute_input": "2022-09-08T04:37:45.834515Z",
     "iopub.status.busy": "2022-09-08T04:37:45.833924Z",
     "iopub.status.idle": "2022-09-08T04:37:47.293267Z",
     "shell.execute_reply": "2022-09-08T04:37:47.292064Z",
     "shell.execute_reply.started": "2022-09-08T04:37:45.834451Z"
    }
   },
   "outputs": [
    {
     "data": {
      "image/png": "[encoded data removed]",
      "text/plain": [
       "<Figure size 1440x1440 with 10 Axes>"
      ]
     },
     "metadata": {},
     "output_type": "display_data"
    }
   ],
   "source": [
    "num_classes = 10\n",
    "\n",
    "f, ax = plt.subplots(1, num_classes, figsize = (20,20))\n",
    "\n",
    "for i in range(0, num_classes):\n",
    "    sample = x_train[y_train == i][0]\n",
    "    ax[i].imshow(sample, cmap='gray')\n",
    "    ax[i].set_title(f'Label: {i}', fontsize=16)"
   ]
  },
  {
   "cell_type": "markdown",
   "metadata": {},
   "source": [
    "<a id=\"section-four\"></a>\n",
    "## 4. Data Preparation"
   ]
  },
  {
   "cell_type": "code",
   "execution_count": 5,
   "metadata": {
    "execution": {
     "iopub.execute_input": "2022-09-08T04:37:47.297335Z",
     "iopub.status.busy": "2022-09-08T04:37:47.294856Z",
     "iopub.status.idle": "2022-09-08T04:37:47.303319Z",
     "shell.execute_reply": "2022-09-08T04:37:47.302019Z",
     "shell.execute_reply.started": "2022-09-08T04:37:47.297297Z"
    }
   },
   "outputs": [
    {
     "name": "stdout",
     "output_type": "stream",
     "text": [
      "5\n",
      "0\n",
      "4\n",
      "1\n",
      "9\n",
      "2\n",
      "1\n",
      "3\n",
      "1\n",
      "4\n"
     ]
    }
   ],
   "source": [
    "for i in range(10):\n",
    "    print(y_train[i])"
   ]
  },
  {
   "cell_type": "code",
   "execution_count": 6,
   "metadata": {
    "execution": {
     "iopub.execute_input": "2022-09-08T04:37:47.305040Z",
     "iopub.status.busy": "2022-09-08T04:37:47.304639Z",
     "iopub.status.idle": "2022-09-08T04:37:47.316801Z",
     "shell.execute_reply": "2022-09-08T04:37:47.315620Z",
     "shell.execute_reply.started": "2022-09-08T04:37:47.305009Z"
    }
   },
   "outputs": [],
   "source": [
    "# One-Hot Encoding\n",
    "\n",
    "y_train = tf.keras.utils.to_categorical(y_train, num_classes)\n",
    "y_test = tf.keras.utils.to_categorical(y_test, num_classes)"
   ]
  },
  {
   "cell_type": "code",
   "execution_count": 7,
   "metadata": {
    "execution": {
     "iopub.execute_input": "2022-09-08T04:37:47.318544Z",
     "iopub.status.busy": "2022-09-08T04:37:47.318191Z",
     "iopub.status.idle": "2022-09-08T04:37:47.330821Z",
     "shell.execute_reply": "2022-09-08T04:37:47.329662Z",
     "shell.execute_reply.started": "2022-09-08T04:37:47.318513Z"
    }
   },
   "outputs": [
    {
     "name": "stdout",
     "output_type": "stream",
     "text": [
      "[0. 0. 0. 0. 0. 1. 0. 0. 0. 0.]\n",
      "[1. 0. 0. 0. 0. 0. 0. 0. 0. 0.]\n",
      "[0. 0. 0. 0. 1. 0. 0. 0. 0. 0.]\n",
      "[0. 1. 0. 0. 0. 0. 0. 0. 0. 0.]\n",
      "[0. 0. 0. 0. 0. 0. 0. 0. 0. 1.]\n",
      "[0. 0. 1. 0. 0. 0. 0. 0. 0. 0.]\n",
      "[0. 1. 0. 0. 0. 0. 0. 0. 0. 0.]\n",
      "[0. 0. 0. 1. 0. 0. 0. 0. 0. 0.]\n",
      "[0. 1. 0. 0. 0. 0. 0. 0. 0. 0.]\n",
      "[0. 0. 0. 0. 1. 0. 0. 0. 0. 0.]\n"
     ]
    }
   ],
   "source": [
    "for i in range(10):\n",
    "    print(y_train[i])"
   ]
  },
  {
   "cell_type": "code",
   "execution_count": 8,
   "metadata": {
    "execution": {
     "iopub.execute_input": "2022-09-08T04:37:47.332162Z",
     "iopub.status.busy": "2022-09-08T04:37:47.331851Z",
     "iopub.status.idle": "2022-09-08T04:37:47.531784Z",
     "shell.execute_reply": "2022-09-08T04:37:47.530717Z",
     "shell.execute_reply.started": "2022-09-08T04:37:47.332119Z"
    }
   },
   "outputs": [],
   "source": [
    "# Normalize Data\n",
    "\n",
    "x_train = x_train / 255.0 \n",
    "x_test = x_test / 255.0"
   ]
  },
  {
   "cell_type": "code",
   "execution_count": 9,
   "metadata": {
    "execution": {
     "iopub.execute_input": "2022-09-08T04:37:47.533386Z",
     "iopub.status.busy": "2022-09-08T04:37:47.533007Z",
     "iopub.status.idle": "2022-09-08T04:37:47.540010Z",
     "shell.execute_reply": "2022-09-08T04:37:47.538668Z",
     "shell.execute_reply.started": "2022-09-08T04:37:47.533354Z"
    }
   },
   "outputs": [
    {
     "name": "stdout",
     "output_type": "stream",
     "text": [
      "(60000, 784)\n"
     ]
    }
   ],
   "source": [
    "# Reshape Data\n",
    "x_train = x_train.reshape(x_train.shape[0], -1)\n",
    "x_test = x_test.reshape(x_test.shape[0], -1)\n",
    "\n",
    "print(x_train.shape)"
   ]
  },
  {
   "cell_type": "markdown",
   "metadata": {},
   "source": [
    "<a id=\"section-five\"></a>\n",
    "## 5. Model: Fully Connected Neural Network"
   ]
  },
  {
   "cell_type": "code",
   "execution_count": 10,
   "metadata": {
    "execution": {
     "iopub.execute_input": "2022-09-08T04:38:16.766026Z",
     "iopub.status.busy": "2022-09-08T04:38:16.765537Z",
     "iopub.status.idle": "2022-09-08T04:38:16.813709Z",
     "shell.execute_reply": "2022-09-08T04:38:16.812684Z",
     "shell.execute_reply.started": "2022-09-08T04:38:16.765989Z"
    }
   },
   "outputs": [
    {
     "name": "stdout",
     "output_type": "stream",
     "text": [
      "Model: \"sequential\"\n",
      "_________________________________________________________________\n",
      " Layer (type)                Output Shape              Param #   \n",
      "=================================================================\n",
      " dense (Dense)               (None, 128)               100480    \n",
      "                                                                 \n",
      " dense_1 (Dense)             (None, 128)               16512     \n",
      "                                                                 \n",
      " dropout (Dropout)           (None, 128)               0         \n",
      "                                                                 \n",
      " dense_2 (Dense)             (None, 10)                1290      \n",
      "                                                                 \n",
      "=================================================================\n",
      "Total params: 118,282\n",
      "Trainable params: 118,282\n",
      "Non-trainable params: 0\n",
      "_________________________________________________________________\n"
     ]
    }
   ],
   "source": [
    "model = Sequential()\n",
    "\n",
    "model.add(Dense(units = 128, input_shape = (784,), activation = 'relu'))\n",
    "model.add(Dense(units = 128, activation = 'relu'))\n",
    "model.add(Dropout(0.25))\n",
    "model.add(Dense(units = 10, activation = 'softmax'))\n",
    "\n",
    "model.compile(loss = 'categorical_crossentropy', optimizer = 'adam', metrics = ['accuracy'])\n",
    "\n",
    "model.summary()"
   ]
  },
  {
   "cell_type": "markdown",
   "metadata": {},
   "source": [
    "<a id=\"section-six\"></a>\n",
    "## 6. Train"
   ]
  },
  {
   "cell_type": "code",
   "execution_count": 11,
   "metadata": {
    "execution": {
     "iopub.execute_input": "2022-09-08T04:40:38.196828Z",
     "iopub.status.busy": "2022-09-08T04:40:38.196420Z",
     "iopub.status.idle": "2022-09-08T04:40:49.118597Z",
     "shell.execute_reply": "2022-09-08T04:40:49.117369Z",
     "shell.execute_reply.started": "2022-09-08T04:40:38.196795Z"
    }
   },
   "outputs": [
    {
     "name": "stdout",
     "output_type": "stream",
     "text": [
      "Epoch 1/10\n",
      "118/118 [==============================] - 2s 3ms/step - loss: 0.5956 - accuracy: 0.8269\n",
      "Epoch 2/10\n",
      "118/118 [==============================] - 0s 3ms/step - loss: 0.2252 - accuracy: 0.9352\n",
      "Epoch 3/10\n",
      "118/118 [==============================] - 0s 3ms/step - loss: 0.1606 - accuracy: 0.9535\n",
      "Epoch 4/10\n",
      "118/118 [==============================] - 0s 3ms/step - loss: 0.1276 - accuracy: 0.9619\n",
      "Epoch 5/10\n",
      "118/118 [==============================] - 0s 3ms/step - loss: 0.1052 - accuracy: 0.9686\n",
      "Epoch 6/10\n",
      "118/118 [==============================] - 0s 3ms/step - loss: 0.0869 - accuracy: 0.9742\n",
      "Epoch 7/10\n",
      "118/118 [==============================] - 0s 3ms/step - loss: 0.0753 - accuracy: 0.9778\n",
      "Epoch 8/10\n",
      "118/118 [==============================] - 0s 3ms/step - loss: 0.0651 - accuracy: 0.9798\n",
      "Epoch 9/10\n",
      "118/118 [==============================] - 0s 3ms/step - loss: 0.0559 - accuracy: 0.9830\n",
      "Epoch 10/10\n",
      "118/118 [==============================] - 0s 3ms/step - loss: 0.0491 - accuracy: 0.9849\n"
     ]
    },
    {
     "data": {
      "text/plain": [
       "<keras.callbacks.History at 0x23f170ddf40>"
      ]
     },
     "execution_count": 11,
     "metadata": {},
     "output_type": "execute_result"
    }
   ],
   "source": [
    "model.fit(x = x_train, y = y_train, batch_size = 512, epochs = 10)"
   ]
  },
  {
   "cell_type": "markdown",
   "metadata": {},
   "source": [
    "<a id=\"section-seven\"></a>\n",
    "## 7. Evaluate"
   ]
  },
  {
   "cell_type": "code",
   "execution_count": 12,
   "metadata": {
    "execution": {
     "iopub.execute_input": "2022-09-08T04:43:28.200747Z",
     "iopub.status.busy": "2022-09-08T04:43:28.200343Z",
     "iopub.status.idle": "2022-09-08T04:43:29.112688Z",
     "shell.execute_reply": "2022-09-08T04:43:29.111285Z",
     "shell.execute_reply.started": "2022-09-08T04:43:28.200715Z"
    }
   },
   "outputs": [
    {
     "name": "stdout",
     "output_type": "stream",
     "text": [
      "313/313 [==============================] - 1s 2ms/step - loss: 0.0773 - accuracy: 0.9768\n",
      "Test Loss: 0.07733874022960663, \n",
      "Tess Accuracy: 0.9768000245094299\n"
     ]
    }
   ],
   "source": [
    "test_loss, test_acc = model.evaluate(x_test, y_test)\n",
    "\n",
    "print(f'Test Loss: {test_loss}, \\nTess Accuracy: {test_acc}')"
   ]
  },
  {
   "cell_type": "code",
   "execution_count": 13,
   "metadata": {
    "execution": {
     "iopub.execute_input": "2022-09-08T04:45:58.240893Z",
     "iopub.status.busy": "2022-09-08T04:45:58.239977Z",
     "iopub.status.idle": "2022-09-08T04:45:58.834625Z",
     "shell.execute_reply": "2022-09-08T04:45:58.833194Z",
     "shell.execute_reply.started": "2022-09-08T04:45:58.240823Z"
    }
   },
   "outputs": [
    {
     "name": "stdout",
     "output_type": "stream",
     "text": [
      "313/313 [==============================] - 0s 1ms/step\n",
      "[[7.76382990e-07 1.08109089e-05 2.62106896e-05 ... 9.99922633e-01\n",
      "  5.47976072e-07 3.46942761e-06]\n",
      " [1.24912091e-07 6.82776226e-05 9.99861717e-01 ... 1.10025525e-07\n",
      "  3.16682599e-06 5.87372997e-11]\n",
      " [1.14635841e-05 9.98900056e-01 3.34358803e-04 ... 3.08657123e-04\n",
      "  2.31037498e-04 2.64099549e-06]\n",
      " ...\n",
      " [8.28329960e-10 8.72918904e-10 9.48539025e-10 ... 1.27797392e-07\n",
      "  3.76464264e-08 3.56292958e-06]\n",
      " [4.77220707e-09 8.51505200e-10 7.97427879e-13 ... 5.88384133e-11\n",
      "  3.51794915e-05 8.00168909e-09]\n",
      " [2.35741041e-07 1.69926434e-10 1.96859329e-09 ... 3.16966245e-11\n",
      "  6.62921185e-09 1.15247374e-10]]\n",
      "[7 2 1 ... 4 5 6]\n"
     ]
    }
   ],
   "source": [
    "y_pred = model.predict(x_test)\n",
    "y_pred_classes = np.argmax(y_pred, axis = 1)\n",
    "print(y_pred)\n",
    "print(y_pred_classes)"
   ]
  },
  {
   "cell_type": "code",
   "execution_count": 14,
   "metadata": {
    "execution": {
     "iopub.execute_input": "2022-09-08T05:04:12.028378Z",
     "iopub.status.busy": "2022-09-08T05:04:12.027811Z",
     "iopub.status.idle": "2022-09-08T05:04:12.307505Z",
     "shell.execute_reply": "2022-09-08T05:04:12.306224Z",
     "shell.execute_reply.started": "2022-09-08T05:04:12.028315Z"
    }
   },
   "outputs": [
    {
     "data": {
      "text/plain": [
       "<matplotlib.image.AxesImage at 0x23f50359760>"
      ]
     },
     "execution_count": 14,
     "metadata": {},
     "output_type": "execute_result"
    },
    {
     "data": {
      "image/png": "[encoded data removed]",
      "text/plain": [
       "<Figure size 432x288 with 1 Axes>"
      ]
     },
     "metadata": {},
     "output_type": "display_data"
    }
   ],
   "source": [
    "# Single Example\n",
    "\n",
    "random_idx = np.random.choice(len(x_test))\n",
    "x_sample = x_test[random_idx]\n",
    "y_true = np.argmax(y_test, axis = 1)\n",
    "y_sample_true = y_true[random_idx]\n",
    "y_sample_pred_class = y_pred_classes[random_idx]\n",
    "\n",
    "plt.title(f'Predicted: {y_sample_pred_class}, \\nTrue: {y_sample_true}', fontsize = 16)\n",
    "plt.imshow(x_sample.reshape(28,28), cmap = 'gray')"
   ]
  },
  {
   "cell_type": "markdown",
   "metadata": {},
   "source": [
    "<a id=\"section-eight\"></a>\n",
    "## 8. Confusion Matrix"
   ]
  },
  {
   "cell_type": "code",
   "execution_count": 15,
   "metadata": {
    "execution": {
     "iopub.execute_input": "2022-09-08T05:08:17.788420Z",
     "iopub.status.busy": "2022-09-08T05:08:17.787658Z",
     "iopub.status.idle": "2022-09-08T05:08:18.606000Z",
     "shell.execute_reply": "2022-09-08T05:08:18.604596Z",
     "shell.execute_reply.started": "2022-09-08T05:08:17.788370Z"
    }
   },
   "outputs": [
    {
     "data": {
      "image/png": "[encoded data removed]",
      "text/plain": [
       "<Figure size 1080x720 with 2 Axes>"
      ]
     },
     "metadata": {},
     "output_type": "display_data"
    }
   ],
   "source": [
    "confusion_mtx = confusion_matrix(y_true, y_pred_classes)\n",
    "\n",
    "# Plot\n",
    "fig, ax = plt.subplots(figsize = (15,10))\n",
    "ax = sns.heatmap(confusion_mtx, annot = True, fmt = 'd', ax = ax, cmap = 'Blues')\n",
    "ax.set_xlabel('Predicted Label')\n",
    "ax.set_ylabel('True Label')\n",
    "ax.set_title('Confusion Matrix');"
   ]
  }
 ],
 "metadata": {
  "kernelspec": {
   "display_name": "Python 3",
   "language": "python",
   "name": "python3"
  },
  "language_info": {
   "codemirror_mode": {
    "name": "ipython",
    "version": 3
   },
   "file_extension": ".py",
   "mimetype": "text/x-python",
   "name": "python",
   "nbconvert_exporter": "python",
   "pygments_lexer": "ipython3",
   "version": "3.8.8"
  }
 },
 "nbformat": 4,
 "nbformat_minor": 4
}
